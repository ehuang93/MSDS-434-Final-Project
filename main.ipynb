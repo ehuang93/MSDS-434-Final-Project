{
 "cells": [
  {
   "cell_type": "code",
   "execution_count": 1,
   "metadata": {},
   "outputs": [],
   "source": [
    "import numpy as np\n",
    "import pandas as pd\n",
    "import matplotlib.pyplot as plt\n",
    "import seaborn as sb\n",
    "import tensorflow as tf\n",
    "from sklearn.model_selection import train_test_split\n",
    "from sklearn.linear_model import LinearRegression\n",
    "from sklearn import metrics\n",
    "import pickle as pkl\n",
    "import streamlit as st\n",
    "%matplotlib inline"
   ]
  },
  {
   "cell_type": "code",
   "execution_count": 7,
   "metadata": {},
   "outputs": [],
   "source": [
    "model = pkl.load(open('deployment.pkl','rb'))"
   ]
  },
  {
   "cell_type": "code",
   "execution_count": 8,
   "metadata": {},
   "outputs": [],
   "source": [
    "def predict(model, input_df):\n",
    "    predictions_df = model.predict(input_df)\n",
    "    predictions = predictions_df['Label'][0]\n",
    "    return predictions"
   ]
  },
  {
   "cell_type": "code",
   "execution_count": 9,
   "metadata": {},
   "outputs": [
    {
     "name": "stderr",
     "output_type": "stream",
     "text": [
      "2021-03-08 23:04:40.526 WARNING root: \n",
      "  \u001b[33m\u001b[1mWarning:\u001b[0m to view this Streamlit app on a browser, run it with the following\n",
      "  command:\n",
      "\n",
      "    streamlit run C:\\Users\\edhua\\Anaconda3\\lib\\site-packages\\ipykernel_launcher.py [ARGUMENTS]\n"
     ]
    }
   ],
   "source": [
    "def run():\n",
    "    add_selectbox = st.sidebar.selectbox(\"How would you like to predict?\",(\"online\",\"Batch\"))\n",
    "    \n",
    "    st.sidebar.info('This application is intended to predict yearly amount spent based on session and membership length')\n",
    "    st.title(\"Yearly Amount Spent Prediction App\")\n",
    "    \n",
    "    if add_selectbox == 'Online':\n",
    "        \n",
    "        Average_Session_Length = st.number_input('Avg. Session Length (minutes)', min_value = 1, max_value = 40, value=30)\n",
    "        Time_on_App = st.number_input('Time on App (minutes)', min_value = 1, max_value = 40, value=12)\n",
    "        Time_on_Website = st.number_input('Time on Website (minutes)', min_value = 1, max_value = 40, value=37)\n",
    "        Length_of_Membership = st.number_input('Length of Membership (Years)', min_value = 1, max_value = 7, value=3)\n",
    "        \n",
    "        input_dict = {'Avg. Session Length':Average_Session_Length, 'Time on App':Time_on_App, 'Time on Website':Time_on_Website, 'Length of Membership':Length_of_Membership}\n",
    "        input_df = pd.DataFrame([input_dict])\n",
    "        \n",
    "        if st.button(\"Predict\"):\n",
    "            output = predict(model=model, input_df=input_df)\n",
    "            output = '$' + str(output)\n",
    "            \n",
    "        st.success('The output is {}'.format(output))\n",
    "        \n",
    "    if add_selectbox == 'Batch':\n",
    "        \n",
    "        file_upload = st.file_uploader(\"Upload csv file for predictionos\", type=[\"csv\"])\n",
    "        \n",
    "        if file_upload is not None:\n",
    "            data = pd.read_csv(file_upload)\n",
    "            predictions = model.predict(data)\n",
    "            st.write(predictions)\n",
    "            \n",
    "if __name__ == '__main__':\n",
    "    run()"
   ]
  },
  {
   "cell_type": "code",
   "execution_count": null,
   "metadata": {},
   "outputs": [],
   "source": []
  }
 ],
 "metadata": {
  "kernelspec": {
   "display_name": "Python 3",
   "language": "python",
   "name": "python3"
  },
  "language_info": {
   "codemirror_mode": {
    "name": "ipython",
    "version": 3
   },
   "file_extension": ".py",
   "mimetype": "text/x-python",
   "name": "python",
   "nbconvert_exporter": "python",
   "pygments_lexer": "ipython3",
   "version": "3.7.4"
  }
 },
 "nbformat": 4,
 "nbformat_minor": 2
}
